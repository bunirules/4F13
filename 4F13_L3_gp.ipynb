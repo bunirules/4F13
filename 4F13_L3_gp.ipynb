{
 "cells": [
  {
   "cell_type": "markdown",
   "metadata": {},
   "source": [
    "# 4F13 Lecture 3: Gaussian Processes"
   ]
  },
  {
   "cell_type": "markdown",
   "metadata": {},
   "source": [
    "## Joint generation of a function from a Gaussian Process"
   ]
  },
  {
   "cell_type": "code",
   "execution_count": 1,
   "metadata": {},
   "outputs": [],
   "source": [
    "import numpy as np\n",
    "import matplotlib.pyplot as plt"
   ]
  },
  {
   "cell_type": "code",
   "execution_count": 2,
   "metadata": {},
   "outputs": [],
   "source": [
    "%matplotlib inline"
   ]
  },
  {
   "cell_type": "code",
   "execution_count": 3,
   "metadata": {},
   "outputs": [],
   "source": [
    "#define mean function\n",
    "def mf(x):\n",
    "    return np.zeros(x.size)"
   ]
  },
  {
   "cell_type": "code",
   "execution_count": 4,
   "metadata": {},
   "outputs": [],
   "source": [
    "#define cov function\n",
    "def k(x, xd):\n",
    "    return np.exp(-0.5 * (x - xd)**2)"
   ]
  },
  {
   "cell_type": "code",
   "execution_count": 5,
   "metadata": {},
   "outputs": [],
   "source": [
    "n = 20"
   ]
  },
  {
   "cell_type": "code",
   "execution_count": 6,
   "metadata": {},
   "outputs": [],
   "source": [
    "#generate x vector, of n random samples from U[-5,5]\n",
    "x = np.random.uniform(-5,5,n).reshape(n,1)\n",
    "\n",
    "#generate vector z, of 10 random samples from std. Gaussian\n",
    "z = np.random.randn(n)\n",
    "\n",
    "#get the mean vector m\n",
    "m = mf(x)\n",
    "\n",
    "#generate K, the cov matrix from k\n",
    "K = np.exp(-0.5 * ((x - x.T)**2))"
   ]
  },
  {
   "cell_type": "code",
   "execution_count": 7,
   "metadata": {},
   "outputs": [
    {
     "name": "stdout",
     "output_type": "stream",
     "text": [
      "[[1.00000000e+00 4.00757195e-04 1.33448664e-09 2.78934211e-02\n",
      "  3.92172121e-03 8.88881298e-05 9.90641562e-01 2.38408101e-02\n",
      "  1.82126187e-03 5.14565256e-01 4.55849472e-08 3.27656105e-12\n",
      "  8.15254384e-02 4.64434333e-01 9.90051376e-01 6.20035342e-03\n",
      "  2.28539692e-08 1.00041604e-01 9.35583587e-01 9.76893874e-13]\n",
      " [4.00757195e-04 1.00000000e+00 5.12507402e-02 4.40948493e-01\n",
      "  8.21930654e-01 9.35898417e-01 2.30801757e-04 4.74150918e-01\n",
      "  9.21884553e-01 1.97012832e-02 1.77609519e-01 4.07957723e-03\n",
      "  2.29326328e-01 2.49599198e-02 6.94141653e-04 7.45268505e-01\n",
      "  1.41757620e-01 1.94528769e-01 1.58787359e-03 2.33179701e-03]\n",
      " [1.33448664e-09 5.12507402e-02 1.00000000e+00 9.98444958e-04\n",
      "  9.15266706e-03 1.16487280e-01 5.50171237e-10 1.23681152e-03\n",
      "  1.76765396e-02 1.08968677e-06 8.45914643e-01 6.79239764e-01\n",
      "  1.79199511e-04 1.70141084e-06 3.26275972e-09 5.89132382e-03\n",
      "  8.99211197e-01 1.21070647e-04 1.28699173e-08 5.79819497e-01]\n",
      " [2.78934211e-02 4.40948493e-01 9.98444958e-04 1.00000000e+00\n",
      "  8.07752785e-01 2.59009457e-01 1.91457822e-02 9.98316736e-01\n",
      "  6.81114564e-01 3.13648045e-01 7.25452351e-03 2.57884828e-05\n",
      "  9.09148743e-01 3.56077603e-01 4.03159476e-02 8.76757732e-01\n",
      "  4.98141424e-03 8.69055569e-01 6.92823122e-02 1.19413354e-05]\n",
      " [3.92172121e-03 8.21930654e-01 9.15266706e-03 8.07752785e-01\n",
      "  1.00000000e+00 6.12439014e-01 2.46111274e-03 8.37567411e-01\n",
      "  9.75456614e-01 9.36614366e-02 4.55676864e-02 4.20000315e-04\n",
      "  5.52143142e-01 1.12458537e-01 6.21702597e-03 9.90168960e-01\n",
      "  3.37880513e-02 4.96559957e-01 1.23640057e-02 2.16557183e-04]\n",
      " [8.88881298e-05 9.35898417e-01 1.16487280e-01 2.59009457e-01\n",
      "  6.12439014e-01 1.00000000e+00 4.86993690e-05 2.84459546e-01\n",
      "  7.44982863e-01 6.64798599e-03 3.27033081e-01 1.27712031e-02\n",
      "  1.14917262e-01 8.68943200e-03 1.62093351e-04 5.27617196e-01\n",
      "  2.72430783e-01 9.42231584e-02 4.02222976e-04 7.75030940e-03]\n",
      " [9.90641562e-01 2.30801757e-04 5.50171237e-10 1.91457822e-02\n",
      "  2.46111274e-03 4.86993690e-05 1.00000000e+00 1.62343675e-02\n",
      "  1.10853732e-03 4.35214815e-01 2.03450372e-08 1.19735114e-12\n",
      "  5.94097511e-02 3.88223484e-01 9.61950065e-01 3.96682298e-03\n",
      "  1.00368477e-08 7.38422454e-02 8.81588557e-01 3.49020708e-13]\n",
      " [2.38408101e-02 4.74150918e-01 1.23681152e-03 9.98316736e-01\n",
      "  8.37567411e-01 2.84459546e-01 1.62343675e-02 1.00000000e+00\n",
      "  7.15453531e-01 2.86630257e-01 8.68969508e-03 3.36184155e-05\n",
      "  8.84913103e-01 3.27028276e-01 3.47424894e-02 9.01731643e-01\n",
      "  6.00775057e-03 8.41317430e-01 6.04840728e-02 1.57163739e-05]\n",
      " [1.82126187e-03 9.21884553e-01 1.76765396e-02 6.81114564e-01\n",
      "  9.75456614e-01 7.44982863e-01 1.10853732e-03 7.15453531e-01\n",
      "  1.00000000e+00 5.62426241e-02 7.73563607e-02 9.86855362e-04\n",
      "  4.22412137e-01 6.88331305e-02 2.97967925e-03 9.36068565e-01\n",
      "  5.88822235e-02 3.72064400e-01 6.22854099e-03 5.27846167e-04]\n",
      " [5.14565256e-01 1.97012832e-02 1.08968677e-06 3.13648045e-01\n",
      "  9.36614366e-02 6.64798599e-03 4.35214815e-01 2.86630257e-01\n",
      "  5.62426241e-02 1.00000000e+00 1.91066340e-05 7.37445364e-09\n",
      "  5.54277641e-01 9.96331866e-01 5.99644362e-01 1.25929268e-01\n",
      "  1.09693160e-05 6.10771591e-01 7.33193075e-01 2.65788362e-09]\n",
      " [4.55849472e-08 1.77609519e-01 8.45914643e-01 7.25452351e-03\n",
      "  4.55676864e-02 3.27033081e-01 2.03450372e-08 8.68969508e-03\n",
      "  7.73563607e-02 1.91066340e-05 1.00000000e+00 3.45441792e-01\n",
      "  1.67601604e-03 2.83891509e-05 1.02698446e-07 3.18155202e-02\n",
      "  9.93113636e-01 1.19518323e-03 3.55957491e-07 2.68104470e-01]\n",
      " [3.27656105e-12 4.07957723e-03 6.79239764e-01 2.57884828e-05\n",
      "  4.20000315e-04 1.27712031e-02 1.19735114e-12 3.36184155e-05\n",
      "  9.86855362e-04 7.37445364e-09 3.45441792e-01 1.00000000e+00\n",
      "  3.15300506e-06 1.24160695e-08 9.07201938e-12 2.38903080e-04\n",
      "  4.07206533e-01 1.96231423e-06 4.35582776e-11 9.86553916e-01]\n",
      " [8.15254384e-02 2.29326328e-01 1.79199511e-04 9.09148743e-01\n",
      "  5.52143142e-01 1.14917262e-01 5.94097511e-02 8.84913103e-01\n",
      "  4.22412137e-01 5.54277641e-01 1.67601604e-03 3.15300506e-06\n",
      "  1.00000000e+00 6.06148684e-01 1.10780645e-01 6.37231891e-01\n",
      "  1.09329765e-03 9.95652114e-01 1.72680122e-01 1.35882183e-06]\n",
      " [4.64434333e-01 2.49599198e-02 1.70141084e-06 3.56077603e-01\n",
      "  1.12458537e-01 8.68943200e-03 3.88223484e-01 3.27028276e-01\n",
      "  6.88331305e-02 9.96331866e-01 2.83891509e-05 1.24160695e-08\n",
      "  6.06148684e-01 1.00000000e+00 5.47826020e-01 1.49391061e-01\n",
      "  1.64636001e-05 6.62605279e-01 6.82793227e-01 4.53854446e-09]\n",
      " [9.90051376e-01 6.94141653e-04 3.26275972e-09 4.03159476e-02\n",
      "  6.21702597e-03 1.62093351e-04 9.61950065e-01 3.47424894e-02\n",
      "  2.97967925e-03 5.99644362e-01 1.02698446e-07 9.07201938e-12\n",
      "  1.10780645e-01 5.47826020e-01 1.00000000e+00 9.63584051e-03\n",
      "  5.23508641e-08 1.34158519e-01 9.75330206e-01 2.76846048e-12]\n",
      " [6.20035342e-03 7.45268505e-01 5.89132382e-03 8.76757732e-01\n",
      "  9.90168960e-01 5.27617196e-01 3.96682298e-03 9.01731643e-01\n",
      "  9.36068565e-01 1.25929268e-01 3.18155202e-02 2.38903080e-04\n",
      "  6.37231891e-01 1.49391061e-01 9.63584051e-03 1.00000000e+00\n",
      "  2.32042960e-02 5.80652773e-01 1.85703920e-02 1.20364851e-04]\n",
      " [2.28539692e-08 1.41757620e-01 8.99211197e-01 4.98141424e-03\n",
      "  3.37880513e-02 2.72430783e-01 1.00368477e-08 6.00775057e-03\n",
      "  5.88822235e-02 1.09693160e-05 9.93113636e-01 4.07206533e-01\n",
      "  1.09329765e-03 1.64636001e-05 5.23508641e-08 2.32042960e-02\n",
      "  1.00000000e+00 7.71131687e-04 1.86281518e-07 3.22214293e-01]\n",
      " [1.00041604e-01 1.94528769e-01 1.21070647e-04 8.69055569e-01\n",
      "  4.96559957e-01 9.42231584e-02 7.38422454e-02 8.41317430e-01\n",
      "  3.72064400e-01 6.10771591e-01 1.19518323e-03 1.96231423e-06\n",
      "  9.95652114e-01 6.62605279e-01 1.34158519e-01 5.80652773e-01\n",
      "  7.71131687e-04 1.00000000e+00 2.04802329e-01 8.32789769e-07]\n",
      " [9.35583587e-01 1.58787359e-03 1.28699173e-08 6.92823122e-02\n",
      "  1.23640057e-02 4.02222976e-04 8.81588557e-01 6.04840728e-02\n",
      "  6.22854099e-03 7.33193075e-01 3.55957491e-07 4.35582776e-11\n",
      "  1.72680122e-01 6.82793227e-01 9.75330206e-01 1.85703920e-02\n",
      "  1.86281518e-07 2.04802329e-01 1.00000000e+00 1.37904181e-11]\n",
      " [9.76893874e-13 2.33179701e-03 5.79819497e-01 1.19413354e-05\n",
      "  2.16557183e-04 7.75030940e-03 3.49020708e-13 1.57163739e-05\n",
      "  5.27846167e-04 2.65788362e-09 2.68104470e-01 9.86553916e-01\n",
      "  1.35882183e-06 4.53854446e-09 2.76846048e-12 1.20364851e-04\n",
      "  3.22214293e-01 8.32789769e-07 1.37904181e-11 1.00000000e+00]]\n"
     ]
    }
   ],
   "source": [
    "print(K)"
   ]
  },
  {
   "cell_type": "code",
   "execution_count": 8,
   "metadata": {},
   "outputs": [],
   "source": [
    "#find the Cholesky decomposition of K, R\n",
    "R = np.linalg.cholesky(K)"
   ]
  },
  {
   "cell_type": "code",
   "execution_count": 9,
   "metadata": {},
   "outputs": [],
   "source": [
    "#get y\n",
    "y = R @ z + m"
   ]
  },
  {
   "cell_type": "code",
   "execution_count": 10,
   "metadata": {},
   "outputs": [
    {
     "data": {
      "text/plain": [
       "<matplotlib.collections.PathCollection at 0x1926393e430>"
      ]
     },
     "execution_count": 10,
     "metadata": {},
     "output_type": "execute_result"
    },
    {
     "data": {
      "image/png": "[encoded data removed]",
      "text/plain": [
       "<Figure size 432x288 with 1 Axes>"
      ]
     },
     "metadata": {
      "needs_background": "light"
     },
     "output_type": "display_data"
    }
   ],
   "source": [
    "plt.scatter(x, y)"
   ]
  },
  {
   "cell_type": "markdown",
   "metadata": {},
   "source": [
    "## Sequential generation of a function from a Gaussian Process"
   ]
  },
  {
   "cell_type": "code",
   "execution_count": 11,
   "metadata": {},
   "outputs": [],
   "source": [
    "# generate new value of x to evaluate the function\n",
    "new_x = np.random.uniform(-5,5,1)\n",
    "\n",
    "# mean for new value of function\n",
    "a = mf(new_x)\n",
    "\n",
    "# make a copy of m, now called b\n",
    "b = m\n",
    "\n",
    "# variance for new value of function\n",
    "A = k(new_x, new_x) # for reference, this is 1 in this case\n",
    "\n",
    "# make a copy of K, now called C\n",
    "C = K\n",
    "C_inv = np.linalg.inv(C)\n",
    "\n",
    "# vector of covariances for new value and old values of x\n",
    "B = np.exp(-0.5*(x-new_x)**2).reshape(20)"
   ]
  },
  {
   "cell_type": "code",
   "execution_count": 12,
   "metadata": {},
   "outputs": [],
   "source": [
    "# draw new value of function from Gaussian as defined in lectures\n",
    "new_f = ((A - (B @ C_inv @ B.T)**0.5)*np.random.randn(1)) + (a + (B @ C_inv @ (y - b)))"
   ]
  },
  {
   "cell_type": "code",
   "execution_count": 13,
   "metadata": {},
   "outputs": [
    {
     "data": {
      "text/plain": [
       "<matplotlib.collections.PathCollection at 0x19263e76a90>"
      ]
     },
     "execution_count": 13,
     "metadata": {},
     "output_type": "execute_result"
    },
    {
     "data": {
      "image/png": "[encoded data removed]",
      "text/plain": [
       "<Figure size 432x288 with 1 Axes>"
      ]
     },
     "metadata": {
      "needs_background": "light"
     },
     "output_type": "display_data"
    }
   ],
   "source": [
    "fig, ax = plt.subplots(1, 1)\n",
    "ax.scatter(x, y)\n",
    "ax.scatter(new_x, new_f, c='r')"
   ]
  },
  {
   "cell_type": "code",
   "execution_count": null,
   "metadata": {},
   "outputs": [],
   "source": []
  }
 ],
 "metadata": {
  "kernelspec": {
   "display_name": "Python 3.8.3 ('base')",
   "language": "python",
   "name": "python3"
  },
  "language_info": {
   "codemirror_mode": {
    "name": "ipython",
    "version": 3
   },
   "file_extension": ".py",
   "mimetype": "text/x-python",
   "name": "python",
   "nbconvert_exporter": "python",
   "pygments_lexer": "ipython3",
   "version": "3.8.3"
  },
  "vscode": {
   "interpreter": {
    "hash": "dee8ab342ce38b164b27f9682aaabdbf982a316efec4f3d81f33bcb5965b210c"
   }
  }
 },
 "nbformat": 4,
 "nbformat_minor": 2
}
